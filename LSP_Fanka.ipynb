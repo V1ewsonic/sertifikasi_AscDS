{
 "cells": [
  {
   "cell_type": "code",
   "execution_count": 34,
   "id": "bf0ca2c7",
   "metadata": {},
   "outputs": [],
   "source": [
    "import pandas as pd\n",
    "import numpy as np\n",
    "import matplotlib.pyplot as plt\n",
    "import seaborn as sns\n",
    "import warnings \n",
    "warnings.filterwarnings('ignore')"
   ]
  },
  {
   "cell_type": "code",
   "execution_count": 7,
   "id": "9f7c33f3",
   "metadata": {},
   "outputs": [],
   "source": [
    "df_train = pd.read_csv('Training Data.csv')"
   ]
  },
  {
   "cell_type": "code",
   "execution_count": 8,
   "id": "060ae3bb",
   "metadata": {},
   "outputs": [
    {
     "data": {
      "text/html": [
       "<div>\n",
       "<style scoped>\n",
       "    .dataframe tbody tr th:only-of-type {\n",
       "        vertical-align: middle;\n",
       "    }\n",
       "\n",
       "    .dataframe tbody tr th {\n",
       "        vertical-align: top;\n",
       "    }\n",
       "\n",
       "    .dataframe thead th {\n",
       "        text-align: right;\n",
       "    }\n",
       "</style>\n",
       "<table border=\"1\" class=\"dataframe\">\n",
       "  <thead>\n",
       "    <tr style=\"text-align: right;\">\n",
       "      <th></th>\n",
       "      <th>Id</th>\n",
       "      <th>Income</th>\n",
       "      <th>Age</th>\n",
       "      <th>Experience</th>\n",
       "      <th>Married/Single</th>\n",
       "      <th>House_Ownership</th>\n",
       "      <th>Car_Ownership</th>\n",
       "      <th>Profession</th>\n",
       "      <th>CITY</th>\n",
       "      <th>STATE</th>\n",
       "      <th>CURRENT_JOB_YRS</th>\n",
       "      <th>CURRENT_HOUSE_YRS</th>\n",
       "      <th>Risk_Flag</th>\n",
       "    </tr>\n",
       "  </thead>\n",
       "  <tbody>\n",
       "    <tr>\n",
       "      <th>0</th>\n",
       "      <td>1</td>\n",
       "      <td>1303834</td>\n",
       "      <td>23</td>\n",
       "      <td>3</td>\n",
       "      <td>single</td>\n",
       "      <td>rented</td>\n",
       "      <td>no</td>\n",
       "      <td>Mechanical_engineer</td>\n",
       "      <td>Rewa</td>\n",
       "      <td>Madhya_Pradesh</td>\n",
       "      <td>3</td>\n",
       "      <td>13</td>\n",
       "      <td>0</td>\n",
       "    </tr>\n",
       "    <tr>\n",
       "      <th>1</th>\n",
       "      <td>2</td>\n",
       "      <td>7574516</td>\n",
       "      <td>40</td>\n",
       "      <td>10</td>\n",
       "      <td>single</td>\n",
       "      <td>rented</td>\n",
       "      <td>no</td>\n",
       "      <td>Software_Developer</td>\n",
       "      <td>Parbhani</td>\n",
       "      <td>Maharashtra</td>\n",
       "      <td>9</td>\n",
       "      <td>13</td>\n",
       "      <td>0</td>\n",
       "    </tr>\n",
       "    <tr>\n",
       "      <th>2</th>\n",
       "      <td>3</td>\n",
       "      <td>3991815</td>\n",
       "      <td>66</td>\n",
       "      <td>4</td>\n",
       "      <td>married</td>\n",
       "      <td>rented</td>\n",
       "      <td>no</td>\n",
       "      <td>Technical_writer</td>\n",
       "      <td>Alappuzha</td>\n",
       "      <td>Kerala</td>\n",
       "      <td>4</td>\n",
       "      <td>10</td>\n",
       "      <td>0</td>\n",
       "    </tr>\n",
       "    <tr>\n",
       "      <th>3</th>\n",
       "      <td>4</td>\n",
       "      <td>6256451</td>\n",
       "      <td>41</td>\n",
       "      <td>2</td>\n",
       "      <td>single</td>\n",
       "      <td>rented</td>\n",
       "      <td>yes</td>\n",
       "      <td>Software_Developer</td>\n",
       "      <td>Bhubaneswar</td>\n",
       "      <td>Odisha</td>\n",
       "      <td>2</td>\n",
       "      <td>12</td>\n",
       "      <td>1</td>\n",
       "    </tr>\n",
       "    <tr>\n",
       "      <th>4</th>\n",
       "      <td>5</td>\n",
       "      <td>5768871</td>\n",
       "      <td>47</td>\n",
       "      <td>11</td>\n",
       "      <td>single</td>\n",
       "      <td>rented</td>\n",
       "      <td>no</td>\n",
       "      <td>Civil_servant</td>\n",
       "      <td>Tiruchirappalli[10]</td>\n",
       "      <td>Tamil_Nadu</td>\n",
       "      <td>3</td>\n",
       "      <td>14</td>\n",
       "      <td>1</td>\n",
       "    </tr>\n",
       "    <tr>\n",
       "      <th>...</th>\n",
       "      <td>...</td>\n",
       "      <td>...</td>\n",
       "      <td>...</td>\n",
       "      <td>...</td>\n",
       "      <td>...</td>\n",
       "      <td>...</td>\n",
       "      <td>...</td>\n",
       "      <td>...</td>\n",
       "      <td>...</td>\n",
       "      <td>...</td>\n",
       "      <td>...</td>\n",
       "      <td>...</td>\n",
       "      <td>...</td>\n",
       "    </tr>\n",
       "    <tr>\n",
       "      <th>251995</th>\n",
       "      <td>251996</td>\n",
       "      <td>8154883</td>\n",
       "      <td>43</td>\n",
       "      <td>13</td>\n",
       "      <td>single</td>\n",
       "      <td>rented</td>\n",
       "      <td>no</td>\n",
       "      <td>Surgeon</td>\n",
       "      <td>Kolkata</td>\n",
       "      <td>West_Bengal</td>\n",
       "      <td>6</td>\n",
       "      <td>11</td>\n",
       "      <td>0</td>\n",
       "    </tr>\n",
       "    <tr>\n",
       "      <th>251996</th>\n",
       "      <td>251997</td>\n",
       "      <td>2843572</td>\n",
       "      <td>26</td>\n",
       "      <td>10</td>\n",
       "      <td>single</td>\n",
       "      <td>rented</td>\n",
       "      <td>no</td>\n",
       "      <td>Army_officer</td>\n",
       "      <td>Rewa</td>\n",
       "      <td>Madhya_Pradesh</td>\n",
       "      <td>6</td>\n",
       "      <td>11</td>\n",
       "      <td>0</td>\n",
       "    </tr>\n",
       "    <tr>\n",
       "      <th>251997</th>\n",
       "      <td>251998</td>\n",
       "      <td>4522448</td>\n",
       "      <td>46</td>\n",
       "      <td>7</td>\n",
       "      <td>single</td>\n",
       "      <td>rented</td>\n",
       "      <td>no</td>\n",
       "      <td>Design_Engineer</td>\n",
       "      <td>Kalyan-Dombivli</td>\n",
       "      <td>Maharashtra</td>\n",
       "      <td>7</td>\n",
       "      <td>12</td>\n",
       "      <td>0</td>\n",
       "    </tr>\n",
       "    <tr>\n",
       "      <th>251998</th>\n",
       "      <td>251999</td>\n",
       "      <td>6507128</td>\n",
       "      <td>45</td>\n",
       "      <td>0</td>\n",
       "      <td>single</td>\n",
       "      <td>rented</td>\n",
       "      <td>no</td>\n",
       "      <td>Graphic_Designer</td>\n",
       "      <td>Pondicherry</td>\n",
       "      <td>Puducherry</td>\n",
       "      <td>0</td>\n",
       "      <td>10</td>\n",
       "      <td>0</td>\n",
       "    </tr>\n",
       "    <tr>\n",
       "      <th>251999</th>\n",
       "      <td>252000</td>\n",
       "      <td>9070230</td>\n",
       "      <td>70</td>\n",
       "      <td>17</td>\n",
       "      <td>single</td>\n",
       "      <td>rented</td>\n",
       "      <td>no</td>\n",
       "      <td>Statistician</td>\n",
       "      <td>Avadi</td>\n",
       "      <td>Tamil_Nadu</td>\n",
       "      <td>7</td>\n",
       "      <td>11</td>\n",
       "      <td>0</td>\n",
       "    </tr>\n",
       "  </tbody>\n",
       "</table>\n",
       "<p>252000 rows × 13 columns</p>\n",
       "</div>"
      ],
      "text/plain": [
       "            Id   Income  Age  Experience Married/Single House_Ownership  \\\n",
       "0            1  1303834   23           3         single          rented   \n",
       "1            2  7574516   40          10         single          rented   \n",
       "2            3  3991815   66           4        married          rented   \n",
       "3            4  6256451   41           2         single          rented   \n",
       "4            5  5768871   47          11         single          rented   \n",
       "...        ...      ...  ...         ...            ...             ...   \n",
       "251995  251996  8154883   43          13         single          rented   \n",
       "251996  251997  2843572   26          10         single          rented   \n",
       "251997  251998  4522448   46           7         single          rented   \n",
       "251998  251999  6507128   45           0         single          rented   \n",
       "251999  252000  9070230   70          17         single          rented   \n",
       "\n",
       "       Car_Ownership           Profession                 CITY  \\\n",
       "0                 no  Mechanical_engineer                 Rewa   \n",
       "1                 no   Software_Developer             Parbhani   \n",
       "2                 no     Technical_writer            Alappuzha   \n",
       "3                yes   Software_Developer          Bhubaneswar   \n",
       "4                 no        Civil_servant  Tiruchirappalli[10]   \n",
       "...              ...                  ...                  ...   \n",
       "251995            no              Surgeon              Kolkata   \n",
       "251996            no         Army_officer                 Rewa   \n",
       "251997            no      Design_Engineer      Kalyan-Dombivli   \n",
       "251998            no     Graphic_Designer          Pondicherry   \n",
       "251999            no         Statistician                Avadi   \n",
       "\n",
       "                 STATE  CURRENT_JOB_YRS  CURRENT_HOUSE_YRS  Risk_Flag  \n",
       "0       Madhya_Pradesh                3                 13          0  \n",
       "1          Maharashtra                9                 13          0  \n",
       "2               Kerala                4                 10          0  \n",
       "3               Odisha                2                 12          1  \n",
       "4           Tamil_Nadu                3                 14          1  \n",
       "...                ...              ...                ...        ...  \n",
       "251995     West_Bengal                6                 11          0  \n",
       "251996  Madhya_Pradesh                6                 11          0  \n",
       "251997     Maharashtra                7                 12          0  \n",
       "251998      Puducherry                0                 10          0  \n",
       "251999      Tamil_Nadu                7                 11          0  \n",
       "\n",
       "[252000 rows x 13 columns]"
      ]
     },
     "execution_count": 8,
     "metadata": {},
     "output_type": "execute_result"
    }
   ],
   "source": [
    "df_train"
   ]
  },
  {
   "cell_type": "code",
   "execution_count": 10,
   "id": "32148504",
   "metadata": {},
   "outputs": [
    {
     "data": {
      "text/plain": [
       "Index(['Id', 'Income', 'Age', 'Experience', 'Married/Single',\n",
       "       'House_Ownership', 'Car_Ownership', 'Profession', 'CITY', 'STATE',\n",
       "       'CURRENT_JOB_YRS', 'CURRENT_HOUSE_YRS', 'Risk_Flag'],\n",
       "      dtype='object')"
      ]
     },
     "execution_count": 10,
     "metadata": {},
     "output_type": "execute_result"
    }
   ],
   "source": [
    "df_train.columns"
   ]
  },
  {
   "cell_type": "markdown",
   "id": "1f289cf2",
   "metadata": {},
   "source": [
    "# Menelaah Data\n",
    "## 1.1"
   ]
  },
  {
   "cell_type": "code",
   "execution_count": 11,
   "id": "f92e4d6c",
   "metadata": {},
   "outputs": [
    {
     "data": {
      "text/plain": [
       "Id                    int64\n",
       "Income                int64\n",
       "Age                   int64\n",
       "Experience            int64\n",
       "Married/Single       object\n",
       "House_Ownership      object\n",
       "Car_Ownership        object\n",
       "Profession           object\n",
       "CITY                 object\n",
       "STATE                object\n",
       "CURRENT_JOB_YRS       int64\n",
       "CURRENT_HOUSE_YRS     int64\n",
       "Risk_Flag             int64\n",
       "dtype: object"
      ]
     },
     "execution_count": 11,
     "metadata": {},
     "output_type": "execute_result"
    }
   ],
   "source": [
    "df_train.dtypes"
   ]
  },
  {
   "cell_type": "code",
   "execution_count": null,
   "id": "df43e931",
   "metadata": {},
   "outputs": [],
   "source": [
    "df=df_train.drop(['Id'], axis = 1)"
   ]
  },
  {
   "cell_type": "markdown",
   "id": "98639072",
   "metadata": {},
   "source": [
    "## 1.2"
   ]
  },
  {
   "cell_type": "code",
   "execution_count": 16,
   "id": "3c46e2cd",
   "metadata": {},
   "outputs": [
    {
     "data": {
      "image/png": "[encoded data removed]",
      "text/plain": [
       "<Figure size 864x432 with 6 Axes>"
      ]
     },
     "metadata": {
      "needs_background": "light"
     },
     "output_type": "display_data"
    }
   ],
   "source": [
    "df.hist(linewidth=1.2)\n",
    "fig=plt.gcf()\n",
    "fig.set_size_inches(12,6)"
   ]
  },
  {
   "cell_type": "markdown",
   "id": "ad49a377",
   "metadata": {},
   "source": [
    "## 2.1"
   ]
  },
  {
   "cell_type": "code",
   "execution_count": 48,
   "id": "19ef899e",
   "metadata": {},
   "outputs": [
    {
     "data": {
      "text/html": [
       "<div>\n",
       "<style scoped>\n",
       "    .dataframe tbody tr th:only-of-type {\n",
       "        vertical-align: middle;\n",
       "    }\n",
       "\n",
       "    .dataframe tbody tr th {\n",
       "        vertical-align: top;\n",
       "    }\n",
       "\n",
       "    .dataframe thead th {\n",
       "        text-align: right;\n",
       "    }\n",
       "</style>\n",
       "<table border=\"1\" class=\"dataframe\">\n",
       "  <thead>\n",
       "    <tr style=\"text-align: right;\">\n",
       "      <th></th>\n",
       "      <th>Income</th>\n",
       "      <th>Age</th>\n",
       "      <th>Experience</th>\n",
       "      <th>CURRENT_JOB_YRS</th>\n",
       "      <th>CURRENT_HOUSE_YRS</th>\n",
       "      <th>Risk_Flag</th>\n",
       "    </tr>\n",
       "  </thead>\n",
       "  <tbody>\n",
       "    <tr>\n",
       "      <th>count</th>\n",
       "      <td>2.520000e+05</td>\n",
       "      <td>252000.000000</td>\n",
       "      <td>252000.000000</td>\n",
       "      <td>252000.000000</td>\n",
       "      <td>252000.000000</td>\n",
       "      <td>252000.000000</td>\n",
       "    </tr>\n",
       "    <tr>\n",
       "      <th>mean</th>\n",
       "      <td>4.997117e+06</td>\n",
       "      <td>49.954071</td>\n",
       "      <td>10.084437</td>\n",
       "      <td>6.333877</td>\n",
       "      <td>11.997794</td>\n",
       "      <td>0.123000</td>\n",
       "    </tr>\n",
       "    <tr>\n",
       "      <th>std</th>\n",
       "      <td>2.878311e+06</td>\n",
       "      <td>17.063855</td>\n",
       "      <td>6.002590</td>\n",
       "      <td>3.647053</td>\n",
       "      <td>1.399037</td>\n",
       "      <td>0.328438</td>\n",
       "    </tr>\n",
       "    <tr>\n",
       "      <th>min</th>\n",
       "      <td>1.031000e+04</td>\n",
       "      <td>21.000000</td>\n",
       "      <td>0.000000</td>\n",
       "      <td>0.000000</td>\n",
       "      <td>10.000000</td>\n",
       "      <td>0.000000</td>\n",
       "    </tr>\n",
       "    <tr>\n",
       "      <th>25%</th>\n",
       "      <td>2.503015e+06</td>\n",
       "      <td>35.000000</td>\n",
       "      <td>5.000000</td>\n",
       "      <td>3.000000</td>\n",
       "      <td>11.000000</td>\n",
       "      <td>0.000000</td>\n",
       "    </tr>\n",
       "    <tr>\n",
       "      <th>50%</th>\n",
       "      <td>5.000694e+06</td>\n",
       "      <td>50.000000</td>\n",
       "      <td>10.000000</td>\n",
       "      <td>6.000000</td>\n",
       "      <td>12.000000</td>\n",
       "      <td>0.000000</td>\n",
       "    </tr>\n",
       "    <tr>\n",
       "      <th>75%</th>\n",
       "      <td>7.477502e+06</td>\n",
       "      <td>65.000000</td>\n",
       "      <td>15.000000</td>\n",
       "      <td>9.000000</td>\n",
       "      <td>13.000000</td>\n",
       "      <td>0.000000</td>\n",
       "    </tr>\n",
       "    <tr>\n",
       "      <th>max</th>\n",
       "      <td>9.999938e+06</td>\n",
       "      <td>79.000000</td>\n",
       "      <td>20.000000</td>\n",
       "      <td>14.000000</td>\n",
       "      <td>14.000000</td>\n",
       "      <td>1.000000</td>\n",
       "    </tr>\n",
       "  </tbody>\n",
       "</table>\n",
       "</div>"
      ],
      "text/plain": [
       "             Income            Age     Experience  CURRENT_JOB_YRS  \\\n",
       "count  2.520000e+05  252000.000000  252000.000000    252000.000000   \n",
       "mean   4.997117e+06      49.954071      10.084437         6.333877   \n",
       "std    2.878311e+06      17.063855       6.002590         3.647053   \n",
       "min    1.031000e+04      21.000000       0.000000         0.000000   \n",
       "25%    2.503015e+06      35.000000       5.000000         3.000000   \n",
       "50%    5.000694e+06      50.000000      10.000000         6.000000   \n",
       "75%    7.477502e+06      65.000000      15.000000         9.000000   \n",
       "max    9.999938e+06      79.000000      20.000000        14.000000   \n",
       "\n",
       "       CURRENT_HOUSE_YRS      Risk_Flag  \n",
       "count      252000.000000  252000.000000  \n",
       "mean           11.997794       0.123000  \n",
       "std             1.399037       0.328438  \n",
       "min            10.000000       0.000000  \n",
       "25%            11.000000       0.000000  \n",
       "50%            12.000000       0.000000  \n",
       "75%            13.000000       0.000000  \n",
       "max            14.000000       1.000000  "
      ]
     },
     "execution_count": 48,
     "metadata": {},
     "output_type": "execute_result"
    }
   ],
   "source": [
    "df.describe()"
   ]
  },
  {
   "cell_type": "code",
   "execution_count": 29,
   "id": "ee2d300c",
   "metadata": {},
   "outputs": [
    {
     "name": "stdout",
     "output_type": "stream",
     "text": [
      "Attribute name: Income\n",
      "-------------------\n",
      "count    2.520000e+05\n",
      "mean     4.997117e+06\n",
      "std      2.878311e+06\n",
      "min      1.031000e+04\n",
      "25%      2.503015e+06\n",
      "50%      5.000694e+06\n",
      "75%      7.477502e+06\n",
      "max      9.999938e+06\n",
      "Name: Income, dtype: float64\n",
      "-------------------\n",
      "Attribute name: Age\n",
      "-------------------\n",
      "count    252000.000000\n",
      "mean         49.954071\n",
      "std          17.063855\n",
      "min          21.000000\n",
      "25%          35.000000\n",
      "50%          50.000000\n",
      "75%          65.000000\n",
      "max          79.000000\n",
      "Name: Age, dtype: float64\n",
      "-------------------\n",
      "Attribute name: Experience\n",
      "-------------------\n",
      "count    252000.000000\n",
      "mean         10.084437\n",
      "std           6.002590\n",
      "min           0.000000\n",
      "25%           5.000000\n",
      "50%          10.000000\n",
      "75%          15.000000\n",
      "max          20.000000\n",
      "Name: Experience, dtype: float64\n",
      "-------------------\n",
      "Attribute name: Married/Single\n",
      "-------------------\n",
      "count     252000\n",
      "unique         2\n",
      "top       single\n",
      "freq      226272\n",
      "Name: Married/Single, dtype: object\n",
      "-------------------\n",
      "Attribute name: House_Ownership\n",
      "-------------------\n",
      "count     252000\n",
      "unique         3\n",
      "top       rented\n",
      "freq      231898\n",
      "Name: House_Ownership, dtype: object\n",
      "-------------------\n",
      "Attribute name: Car_Ownership\n",
      "-------------------\n",
      "count     252000\n",
      "unique         2\n",
      "top           no\n",
      "freq      176000\n",
      "Name: Car_Ownership, dtype: object\n",
      "-------------------\n",
      "Attribute name: Profession\n",
      "-------------------\n",
      "count        252000\n",
      "unique           51\n",
      "top       Physician\n",
      "freq           5957\n",
      "Name: Profession, dtype: object\n",
      "-------------------\n",
      "Attribute name: CITY\n",
      "-------------------\n",
      "count            252000\n",
      "unique              317\n",
      "top       Vijayanagaram\n",
      "freq               1259\n",
      "Name: CITY, dtype: object\n",
      "-------------------\n",
      "Attribute name: STATE\n",
      "-------------------\n",
      "count            252000\n",
      "unique               29\n",
      "top       Uttar_Pradesh\n",
      "freq              28400\n",
      "Name: STATE, dtype: object\n",
      "-------------------\n",
      "Attribute name: CURRENT_JOB_YRS\n",
      "-------------------\n",
      "count    252000.000000\n",
      "mean          6.333877\n",
      "std           3.647053\n",
      "min           0.000000\n",
      "25%           3.000000\n",
      "50%           6.000000\n",
      "75%           9.000000\n",
      "max          14.000000\n",
      "Name: CURRENT_JOB_YRS, dtype: float64\n",
      "-------------------\n",
      "Attribute name: CURRENT_HOUSE_YRS\n",
      "-------------------\n",
      "count    252000.000000\n",
      "mean         11.997794\n",
      "std           1.399037\n",
      "min          10.000000\n",
      "25%          11.000000\n",
      "50%          12.000000\n",
      "75%          13.000000\n",
      "max          14.000000\n",
      "Name: CURRENT_HOUSE_YRS, dtype: float64\n",
      "-------------------\n",
      "Attribute name: Risk_Flag\n",
      "-------------------\n",
      "count    252000.000000\n",
      "mean          0.123000\n",
      "std           0.328438\n",
      "min           0.000000\n",
      "25%           0.000000\n",
      "50%           0.000000\n",
      "75%           0.000000\n",
      "max           1.000000\n",
      "Name: Risk_Flag, dtype: float64\n",
      "-------------------\n"
     ]
    }
   ],
   "source": [
    "for col in df.columns:\n",
    "    print('Attribute name:',col)\n",
    "    print('-------------------')\n",
    "    print(df[col].describe())\n",
    "    print('-------------------')"
   ]
  },
  {
   "cell_type": "markdown",
   "id": "f25ac3b9",
   "metadata": {},
   "source": [
    "## 2.2"
   ]
  },
  {
   "cell_type": "code",
   "execution_count": 30,
   "id": "06c56d8f",
   "metadata": {},
   "outputs": [
    {
     "name": "stdout",
     "output_type": "stream",
     "text": [
      "Attribute name: Income\n",
      "-------------------\n",
      "[1303834 7574516 3991815 ... 2843572 4522448 9070230]\n",
      "-------------------\n",
      "Attribute name: Age\n",
      "-------------------\n",
      "[23 40 66 41 47 64 58 33 24 78 22 28 57 48 39 71 56 54 50 72 36 76 38 31\n",
      " 52 59 21 26 55 45 77 63 30 25 73 75 27 74 67 46 68 79 42 60 32 65 49 35\n",
      " 61 29 37 69 62 53 70 34 43 44 51]\n",
      "-------------------\n",
      "Attribute name: Experience\n",
      "-------------------\n",
      "[ 3 10  4  2 11  0 14 17 12  7  9  6  8  1 13 19 15 20  5 16 18]\n",
      "-------------------\n",
      "Attribute name: Married/Single\n",
      "-------------------\n",
      "['single' 'married']\n",
      "-------------------\n",
      "Attribute name: House_Ownership\n",
      "-------------------\n",
      "['rented' 'norent_noown' 'owned']\n",
      "-------------------\n",
      "Attribute name: Car_Ownership\n",
      "-------------------\n",
      "['no' 'yes']\n",
      "-------------------\n",
      "Attribute name: Profession\n",
      "-------------------\n",
      "['Mechanical_engineer' 'Software_Developer' 'Technical_writer'\n",
      " 'Civil_servant' 'Librarian' 'Economist' 'Flight_attendant' 'Architect'\n",
      " 'Designer' 'Physician' 'Financial_Analyst' 'Air_traffic_controller'\n",
      " 'Politician' 'Police_officer' 'Artist' 'Surveyor' 'Design_Engineer'\n",
      " 'Chemical_engineer' 'Hotel_Manager' 'Dentist' 'Comedian'\n",
      " 'Biomedical_Engineer' 'Graphic_Designer' 'Computer_hardware_engineer'\n",
      " 'Petroleum_Engineer' 'Secretary' 'Computer_operator'\n",
      " 'Chartered_Accountant' 'Technician' 'Microbiologist' 'Fashion_Designer'\n",
      " 'Aviator' 'Psychologist' 'Magistrate' 'Lawyer' 'Firefighter' 'Engineer'\n",
      " 'Official' 'Analyst' 'Geologist' 'Drafter' 'Statistician' 'Web_designer'\n",
      " 'Consultant' 'Chef' 'Army_officer' 'Surgeon' 'Scientist' 'Civil_engineer'\n",
      " 'Industrial_Engineer' 'Technology_specialist']\n",
      "-------------------\n",
      "Attribute name: CITY\n",
      "-------------------\n",
      "['Rewa' 'Parbhani' 'Alappuzha' 'Bhubaneswar' 'Tiruchirappalli[10]'\n",
      " 'Jalgaon' 'Tiruppur' 'Jamnagar' 'Kota[6]' 'Karimnagar' 'Hajipur[31]'\n",
      " 'Adoni' 'Erode[17]' 'Kollam' 'Madurai' 'Anantapuram[24]' 'Kamarhati'\n",
      " 'Bhusawal' 'Sirsa' 'Amaravati' 'Secunderabad' 'Ahmedabad' 'Ajmer'\n",
      " 'Ongole' 'Miryalaguda' 'Ambattur' 'Indore' 'Pondicherry' 'Shimoga'\n",
      " 'Chennai' 'Gulbarga' 'Khammam' 'Saharanpur' 'Gopalpur' 'Amravati' 'Udupi'\n",
      " 'Howrah' 'Aurangabad[39]' 'Hospet' 'Shimla' 'Khandwa' 'Bidhannagar'\n",
      " 'Bellary' 'Danapur' 'Purnia[26]' 'Bijapur' 'Patiala' 'Malda' 'Sagar'\n",
      " 'Durgapur' 'Junagadh' 'Singrauli' 'Agartala' 'Thanjavur' 'Hindupur'\n",
      " 'Naihati' 'North_Dumdum' 'Panchkula' 'Anantapur' 'Serampore' 'Bathinda'\n",
      " 'Nadiad' 'Kanpur' 'Haridwar' 'Berhampur' 'Jamshedpur' 'Hyderabad' 'Bidar'\n",
      " 'Kottayam' 'Solapur' 'Suryapet' 'Aizawl' 'Asansol' 'Deoghar' 'Eluru[25]'\n",
      " 'Ulhasnagar' 'Aligarh' 'South_Dumdum' 'Berhampore' 'Gandhinagar'\n",
      " 'Sonipat' 'Muzaffarpur' 'Raichur' 'Rajpur_Sonarpur' 'Ambarnath' 'Katihar'\n",
      " 'Kozhikode' 'Vellore' 'Malegaon' 'Kochi' 'Nagaon' 'Nagpur' 'Srinagar'\n",
      " 'Davanagere' 'Bhagalpur' 'Siwan[32]' 'Meerut' 'Dindigul' 'Bhatpara'\n",
      " 'Ghaziabad' 'Kulti' 'Chapra' 'Dibrugarh' 'Panihati' 'Bhiwandi' 'Morbi'\n",
      " 'Kalyan-Dombivli' 'Gorakhpur' 'Panvel' 'Siliguri' 'Bongaigaon' 'Patna'\n",
      " 'Ramgarh' 'Ozhukarai' 'Mirzapur' 'Akola' 'Satna' 'Motihari[34]' 'Jalna'\n",
      " 'Jalandhar' 'Unnao' 'Karnal' 'Cuttack' 'Proddatur' 'Ichalkaranji'\n",
      " 'Warangal[11][12]' 'Jhansi' 'Bulandshahr' 'Narasaraopet' 'Chinsurah'\n",
      " 'Jehanabad[38]' 'Dhanbad' 'Gudivada' 'Gandhidham' 'Raiganj'\n",
      " 'Kishanganj[35]' 'Varanasi' 'Belgaum' 'Tirupati[21][22]' 'Tumkur'\n",
      " 'Coimbatore' 'Kurnool[18]' 'Gurgaon' 'Muzaffarnagar' 'Aurangabad'\n",
      " 'Bhavnagar' 'Arrah' 'Munger' 'Tirunelveli' 'Mumbai' 'Mango' 'Nashik'\n",
      " 'Kadapa[23]' 'Amritsar' 'Khora,_Ghaziabad' 'Ambala' 'Agra' 'Ratlam'\n",
      " 'Surendranagar_Dudhrej' 'Delhi_city' 'Bhopal' 'Hapur' 'Rohtak' 'Durg'\n",
      " 'Korba' 'Bangalore' 'Shivpuri' 'Thrissur' 'Vijayanagaram' 'Farrukhabad'\n",
      " 'Nangloi_Jat' 'Madanapalle' 'Thoothukudi' 'Nagercoil' 'Gaya'\n",
      " 'Chandigarh_city' 'Jammu[16]' 'Kakinada' 'Dewas' 'Bhalswa_Jahangir_Pur'\n",
      " 'Baranagar' 'Firozabad' 'Phusro' 'Allahabad' 'Guna' 'Thane' 'Etawah'\n",
      " 'Vasai-Virar' 'Pallavaram' 'Morena' 'Ballia' 'Surat' 'Burhanpur'\n",
      " 'Phagwara' 'Mau' 'Mangalore' 'Alwar' 'Mahbubnagar' 'Maheshtala'\n",
      " 'Hazaribagh' 'Bihar_Sharif' 'Faridabad' 'Lucknow' 'Tenali' 'Barasat'\n",
      " 'Amroha' 'Giridih' 'Begusarai' 'Medininagar' 'Rajahmundry[19][20]'\n",
      " 'Saharsa[29]' 'New_Delhi' 'Bhilai' 'Moradabad' 'Machilipatnam'\n",
      " 'Mira-Bhayandar' 'Pali' 'Navi_Mumbai' 'Mehsana' 'Imphal' 'Kolkata'\n",
      " 'Sambalpur' 'Ujjain' 'Madhyamgram' 'Jabalpur' 'Jamalpur[36]' 'Ludhiana'\n",
      " 'Bareilly' 'Gangtok' 'Anand' 'Dehradun' 'Pune' 'Satara' 'Srikakulam'\n",
      " 'Raipur' 'Jodhpur' 'Darbhanga' 'Nizamabad' 'Nandyal' 'Dehri[30]' 'Jorhat'\n",
      " 'Ranchi' 'Kumbakonam' 'Guntakal' 'Haldia' 'Loni' 'Pimpri-Chinchwad'\n",
      " 'Rajkot' 'Nanded' 'Noida' 'Kirari_Suleman_Nagar' 'Jaunpur' 'Bilaspur'\n",
      " 'Sambhal' 'Dhule' 'Rourkela' 'Thiruvananthapuram' 'Dharmavaram'\n",
      " 'Nellore[14][15]' 'Visakhapatnam[4]' 'Karawal_Nagar' 'Jaipur' 'Avadi'\n",
      " 'Bhimavaram' 'Bardhaman' 'Silchar' 'Buxar[37]' 'Kavali' 'Tezpur'\n",
      " 'Ramagundam[27]' 'Yamunanagar' 'Sri_Ganganagar' 'Sasaram[30]' 'Sikar'\n",
      " 'Bally' 'Bhiwani' 'Rampur' 'Uluberia' 'Sangli-Miraj_&_Kupwad' 'Hosur'\n",
      " 'Bikaner' 'Shahjahanpur' 'Sultan_Pur_Majra' 'Vijayawada' 'Bharatpur'\n",
      " 'Tadepalligudem' 'Tinsukia' 'Salem' 'Mathura' 'Guntur[13]'\n",
      " 'Hubliâ€“Dharwad' 'Guwahati' 'Chittoor[28]' 'Tiruvottiyur' 'Vadodara'\n",
      " 'Ahmednagar' 'Fatehpur' 'Bhilwara' 'Kharagpur' 'Bettiah[33]' 'Bhind'\n",
      " 'Bokaro' 'Karaikudi' 'Raebareli' 'Pudukkottai' 'Udaipur'\n",
      " 'Mysore[7][8][9]' 'Panipat' 'Latur' 'Tadipatri' 'Bahraich' 'Orai'\n",
      " 'Raurkela_Industrial_Township' 'Gwalior' 'Katni' 'Chandrapur' 'Kolhapur']\n",
      "-------------------\n",
      "Attribute name: STATE\n",
      "-------------------\n",
      "['Madhya_Pradesh' 'Maharashtra' 'Kerala' 'Odisha' 'Tamil_Nadu' 'Gujarat'\n",
      " 'Rajasthan' 'Telangana' 'Bihar' 'Andhra_Pradesh' 'West_Bengal' 'Haryana'\n",
      " 'Puducherry' 'Karnataka' 'Uttar_Pradesh' 'Himachal_Pradesh' 'Punjab'\n",
      " 'Tripura' 'Uttarakhand' 'Jharkhand' 'Mizoram' 'Assam' 'Jammu_and_Kashmir'\n",
      " 'Delhi' 'Chhattisgarh' 'Chandigarh' 'Uttar_Pradesh[5]' 'Manipur' 'Sikkim']\n",
      "-------------------\n",
      "Attribute name: CURRENT_JOB_YRS\n",
      "-------------------\n",
      "[ 3  9  4  2  0  8 11  5  7  6 12  1 10 13 14]\n",
      "-------------------\n",
      "Attribute name: CURRENT_HOUSE_YRS\n",
      "-------------------\n",
      "[13 10 12 14 11]\n",
      "-------------------\n",
      "Attribute name: Risk_Flag\n",
      "-------------------\n",
      "[0 1]\n",
      "-------------------\n"
     ]
    }
   ],
   "source": [
    "for colu in df.columns:\n",
    "    print('Attribute name:',colu)\n",
    "    print('-------------------')\n",
    "    print(df[colu].unique())\n",
    "    print('-------------------')"
   ]
  },
  {
   "cell_type": "markdown",
   "id": "c7012908",
   "metadata": {},
   "source": [
    "## 2.3"
   ]
  },
  {
   "cell_type": "code",
   "execution_count": 35,
   "id": "5f4e13b3",
   "metadata": {},
   "outputs": [
    {
     "data": {
      "image/png": "[encoded data removed]",
      "text/plain": [
       "<Figure size 432x288 with 1 Axes>"
      ]
     },
     "metadata": {
      "needs_background": "light"
     },
     "output_type": "display_data"
    }
   ],
   "source": [
    "sns.boxplot(df['Income'])\n",
    "plt.show()"
   ]
  },
  {
   "cell_type": "code",
   "execution_count": 36,
   "id": "c2476d20",
   "metadata": {
    "scrolled": true
   },
   "outputs": [
    {
     "data": {
      "image/png": "[encoded data removed]",
      "text/plain": [
       "<Figure size 432x288 with 1 Axes>"
      ]
     },
     "metadata": {
      "needs_background": "light"
     },
     "output_type": "display_data"
    }
   ],
   "source": [
    "sns.boxplot(df['Age'])\n",
    "plt.show()"
   ]
  },
  {
   "cell_type": "code",
   "execution_count": 38,
   "id": "bcb59d11",
   "metadata": {},
   "outputs": [
    {
     "data": {
      "image/png": "[encoded data removed]",
      "text/plain": [
       "<Figure size 432x288 with 1 Axes>"
      ]
     },
     "metadata": {
      "needs_background": "light"
     },
     "output_type": "display_data"
    }
   ],
   "source": [
    "sns.boxplot(df['Experience'])\n",
    "plt.show()"
   ]
  },
  {
   "cell_type": "code",
   "execution_count": 39,
   "id": "9544601d",
   "metadata": {},
   "outputs": [
    {
     "data": {
      "image/png": "[encoded data removed]",
      "text/plain": [
       "<Figure size 432x288 with 1 Axes>"
      ]
     },
     "metadata": {
      "needs_background": "light"
     },
     "output_type": "display_data"
    }
   ],
   "source": [
    "sns.boxplot(df['CURRENT_JOB_YRS'])\n",
    "plt.show()"
   ]
  },
  {
   "cell_type": "code",
   "execution_count": 40,
   "id": "b51334ab",
   "metadata": {},
   "outputs": [
    {
     "data": {
      "image/png": "[encoded data removed]",
      "text/plain": [
       "<Figure size 432x288 with 1 Axes>"
      ]
     },
     "metadata": {
      "needs_background": "light"
     },
     "output_type": "display_data"
    }
   ],
   "source": [
    "\n",
    "sns.boxplot(df['CURRENT_HOUSE_YRS'])\n",
    "plt.show()"
   ]
  },
  {
   "cell_type": "markdown",
   "id": "b0cee814",
   "metadata": {},
   "source": [
    "# Memvalidasi data"
   ]
  },
  {
   "cell_type": "markdown",
   "id": "dc056aaf",
   "metadata": {},
   "source": [
    "## 1.1"
   ]
  },
  {
   "cell_type": "code",
   "execution_count": 41,
   "id": "a450adc6",
   "metadata": {},
   "outputs": [
    {
     "data": {
      "text/plain": [
       "Income               0\n",
       "Age                  0\n",
       "Experience           0\n",
       "Married/Single       0\n",
       "House_Ownership      0\n",
       "Car_Ownership        0\n",
       "Profession           0\n",
       "CITY                 0\n",
       "STATE                0\n",
       "CURRENT_JOB_YRS      0\n",
       "CURRENT_HOUSE_YRS    0\n",
       "Risk_Flag            0\n",
       "dtype: int64"
      ]
     },
     "execution_count": 41,
     "metadata": {},
     "output_type": "execute_result"
    }
   ],
   "source": [
    "df.isna().sum()"
   ]
  },
  {
   "cell_type": "markdown",
   "id": "a4eef0a9",
   "metadata": {},
   "source": [
    "## 1.2"
   ]
  },
  {
   "cell_type": "code",
   "execution_count": 49,
   "id": "84f2155e",
   "metadata": {},
   "outputs": [
    {
     "data": {
      "text/plain": [
       "Income               0.0\n",
       "Age                  0.0\n",
       "Experience           0.0\n",
       "Married/Single       0.0\n",
       "House_Ownership      0.0\n",
       "Car_Ownership        0.0\n",
       "Profession           0.0\n",
       "CITY                 0.0\n",
       "STATE                0.0\n",
       "CURRENT_JOB_YRS      0.0\n",
       "CURRENT_HOUSE_YRS    0.0\n",
       "Risk_Flag            0.0\n",
       "dtype: float64"
      ]
     },
     "execution_count": 49,
     "metadata": {},
     "output_type": "execute_result"
    }
   ],
   "source": [
    "df. isnull(). sum() * 100 / len(df)"
   ]
  },
  {
   "cell_type": "markdown",
   "id": "a0c06c2b",
   "metadata": {},
   "source": [
    "## 1.4"
   ]
  },
  {
   "cell_type": "code",
   "execution_count": 53,
   "id": "98f5bd5b",
   "metadata": {},
   "outputs": [
    {
     "name": "stdout",
     "output_type": "stream",
     "text": [
      "Attribute name: Income\n",
      "-------------------\n",
      "[1303834 7574516 3991815 ... 2843572 4522448 9070230]\n",
      "-------------------\n",
      "Attribute name: Age\n",
      "-------------------\n",
      "[23 40 66 41 47 64 58 33 24 78 22 28 57 48 39 71 56 54 50 72 36 76 38 31\n",
      " 52 59 21 26 55 45 77 63 30 25 73 75 27 74 67 46 68 79 42 60 32 65 49 35\n",
      " 61 29 37 69 62 53 70 34 43 44 51]\n",
      "-------------------\n",
      "Attribute name: Experience\n",
      "-------------------\n",
      "[ 3 10  4  2 11  0 14 17 12  7  9  6  8  1 13 19 15 20  5 16 18]\n",
      "-------------------\n",
      "Attribute name: Married/Single\n",
      "-------------------\n",
      "['single' 'married']\n",
      "-------------------\n",
      "Attribute name: House_Ownership\n",
      "-------------------\n",
      "['rented' 'norent_noown' 'owned']\n",
      "-------------------\n",
      "Attribute name: Car_Ownership\n",
      "-------------------\n",
      "['no' 'yes']\n",
      "-------------------\n",
      "Attribute name: Profession\n",
      "-------------------\n",
      "['Mechanical_engineer' 'Software_Developer' 'Technical_writer'\n",
      " 'Civil_servant' 'Librarian' 'Economist' 'Flight_attendant' 'Architect'\n",
      " 'Designer' 'Physician' 'Financial_Analyst' 'Air_traffic_controller'\n",
      " 'Politician' 'Police_officer' 'Artist' 'Surveyor' 'Design_Engineer'\n",
      " 'Chemical_engineer' 'Hotel_Manager' 'Dentist' 'Comedian'\n",
      " 'Biomedical_Engineer' 'Graphic_Designer' 'Computer_hardware_engineer'\n",
      " 'Petroleum_Engineer' 'Secretary' 'Computer_operator'\n",
      " 'Chartered_Accountant' 'Technician' 'Microbiologist' 'Fashion_Designer'\n",
      " 'Aviator' 'Psychologist' 'Magistrate' 'Lawyer' 'Firefighter' 'Engineer'\n",
      " 'Official' 'Analyst' 'Geologist' 'Drafter' 'Statistician' 'Web_designer'\n",
      " 'Consultant' 'Chef' 'Army_officer' 'Surgeon' 'Scientist' 'Civil_engineer'\n",
      " 'Industrial_Engineer' 'Technology_specialist']\n",
      "-------------------\n",
      "Attribute name: CITY\n",
      "-------------------\n",
      "['Rewa' 'Parbhani' 'Alappuzha' 'Bhubaneswar' 'Tiruchirappalli[10]'\n",
      " 'Jalgaon' 'Tiruppur' 'Jamnagar' 'Kota[6]' 'Karimnagar' 'Hajipur[31]'\n",
      " 'Adoni' 'Erode[17]' 'Kollam' 'Madurai' 'Anantapuram[24]' 'Kamarhati'\n",
      " 'Bhusawal' 'Sirsa' 'Amaravati' 'Secunderabad' 'Ahmedabad' 'Ajmer'\n",
      " 'Ongole' 'Miryalaguda' 'Ambattur' 'Indore' 'Pondicherry' 'Shimoga'\n",
      " 'Chennai' 'Gulbarga' 'Khammam' 'Saharanpur' 'Gopalpur' 'Amravati' 'Udupi'\n",
      " 'Howrah' 'Aurangabad[39]' 'Hospet' 'Shimla' 'Khandwa' 'Bidhannagar'\n",
      " 'Bellary' 'Danapur' 'Purnia[26]' 'Bijapur' 'Patiala' 'Malda' 'Sagar'\n",
      " 'Durgapur' 'Junagadh' 'Singrauli' 'Agartala' 'Thanjavur' 'Hindupur'\n",
      " 'Naihati' 'North_Dumdum' 'Panchkula' 'Anantapur' 'Serampore' 'Bathinda'\n",
      " 'Nadiad' 'Kanpur' 'Haridwar' 'Berhampur' 'Jamshedpur' 'Hyderabad' 'Bidar'\n",
      " 'Kottayam' 'Solapur' 'Suryapet' 'Aizawl' 'Asansol' 'Deoghar' 'Eluru[25]'\n",
      " 'Ulhasnagar' 'Aligarh' 'South_Dumdum' 'Berhampore' 'Gandhinagar'\n",
      " 'Sonipat' 'Muzaffarpur' 'Raichur' 'Rajpur_Sonarpur' 'Ambarnath' 'Katihar'\n",
      " 'Kozhikode' 'Vellore' 'Malegaon' 'Kochi' 'Nagaon' 'Nagpur' 'Srinagar'\n",
      " 'Davanagere' 'Bhagalpur' 'Siwan[32]' 'Meerut' 'Dindigul' 'Bhatpara'\n",
      " 'Ghaziabad' 'Kulti' 'Chapra' 'Dibrugarh' 'Panihati' 'Bhiwandi' 'Morbi'\n",
      " 'Kalyan-Dombivli' 'Gorakhpur' 'Panvel' 'Siliguri' 'Bongaigaon' 'Patna'\n",
      " 'Ramgarh' 'Ozhukarai' 'Mirzapur' 'Akola' 'Satna' 'Motihari[34]' 'Jalna'\n",
      " 'Jalandhar' 'Unnao' 'Karnal' 'Cuttack' 'Proddatur' 'Ichalkaranji'\n",
      " 'Warangal[11][12]' 'Jhansi' 'Bulandshahr' 'Narasaraopet' 'Chinsurah'\n",
      " 'Jehanabad[38]' 'Dhanbad' 'Gudivada' 'Gandhidham' 'Raiganj'\n",
      " 'Kishanganj[35]' 'Varanasi' 'Belgaum' 'Tirupati[21][22]' 'Tumkur'\n",
      " 'Coimbatore' 'Kurnool[18]' 'Gurgaon' 'Muzaffarnagar' 'Aurangabad'\n",
      " 'Bhavnagar' 'Arrah' 'Munger' 'Tirunelveli' 'Mumbai' 'Mango' 'Nashik'\n",
      " 'Kadapa[23]' 'Amritsar' 'Khora,_Ghaziabad' 'Ambala' 'Agra' 'Ratlam'\n",
      " 'Surendranagar_Dudhrej' 'Delhi_city' 'Bhopal' 'Hapur' 'Rohtak' 'Durg'\n",
      " 'Korba' 'Bangalore' 'Shivpuri' 'Thrissur' 'Vijayanagaram' 'Farrukhabad'\n",
      " 'Nangloi_Jat' 'Madanapalle' 'Thoothukudi' 'Nagercoil' 'Gaya'\n",
      " 'Chandigarh_city' 'Jammu[16]' 'Kakinada' 'Dewas' 'Bhalswa_Jahangir_Pur'\n",
      " 'Baranagar' 'Firozabad' 'Phusro' 'Allahabad' 'Guna' 'Thane' 'Etawah'\n",
      " 'Vasai-Virar' 'Pallavaram' 'Morena' 'Ballia' 'Surat' 'Burhanpur'\n",
      " 'Phagwara' 'Mau' 'Mangalore' 'Alwar' 'Mahbubnagar' 'Maheshtala'\n",
      " 'Hazaribagh' 'Bihar_Sharif' 'Faridabad' 'Lucknow' 'Tenali' 'Barasat'\n",
      " 'Amroha' 'Giridih' 'Begusarai' 'Medininagar' 'Rajahmundry[19][20]'\n",
      " 'Saharsa[29]' 'New_Delhi' 'Bhilai' 'Moradabad' 'Machilipatnam'\n",
      " 'Mira-Bhayandar' 'Pali' 'Navi_Mumbai' 'Mehsana' 'Imphal' 'Kolkata'\n",
      " 'Sambalpur' 'Ujjain' 'Madhyamgram' 'Jabalpur' 'Jamalpur[36]' 'Ludhiana'\n",
      " 'Bareilly' 'Gangtok' 'Anand' 'Dehradun' 'Pune' 'Satara' 'Srikakulam'\n",
      " 'Raipur' 'Jodhpur' 'Darbhanga' 'Nizamabad' 'Nandyal' 'Dehri[30]' 'Jorhat'\n",
      " 'Ranchi' 'Kumbakonam' 'Guntakal' 'Haldia' 'Loni' 'Pimpri-Chinchwad'\n",
      " 'Rajkot' 'Nanded' 'Noida' 'Kirari_Suleman_Nagar' 'Jaunpur' 'Bilaspur'\n",
      " 'Sambhal' 'Dhule' 'Rourkela' 'Thiruvananthapuram' 'Dharmavaram'\n",
      " 'Nellore[14][15]' 'Visakhapatnam[4]' 'Karawal_Nagar' 'Jaipur' 'Avadi'\n",
      " 'Bhimavaram' 'Bardhaman' 'Silchar' 'Buxar[37]' 'Kavali' 'Tezpur'\n",
      " 'Ramagundam[27]' 'Yamunanagar' 'Sri_Ganganagar' 'Sasaram[30]' 'Sikar'\n",
      " 'Bally' 'Bhiwani' 'Rampur' 'Uluberia' 'Sangli-Miraj_&_Kupwad' 'Hosur'\n",
      " 'Bikaner' 'Shahjahanpur' 'Sultan_Pur_Majra' 'Vijayawada' 'Bharatpur'\n",
      " 'Tadepalligudem' 'Tinsukia' 'Salem' 'Mathura' 'Guntur[13]'\n",
      " 'Hubliâ€“Dharwad' 'Guwahati' 'Chittoor[28]' 'Tiruvottiyur' 'Vadodara'\n",
      " 'Ahmednagar' 'Fatehpur' 'Bhilwara' 'Kharagpur' 'Bettiah[33]' 'Bhind'\n",
      " 'Bokaro' 'Karaikudi' 'Raebareli' 'Pudukkottai' 'Udaipur'\n",
      " 'Mysore[7][8][9]' 'Panipat' 'Latur' 'Tadipatri' 'Bahraich' 'Orai'\n",
      " 'Raurkela_Industrial_Township' 'Gwalior' 'Katni' 'Chandrapur' 'Kolhapur']\n",
      "-------------------\n",
      "Attribute name: STATE\n",
      "-------------------\n",
      "['Madhya_Pradesh' 'Maharashtra' 'Kerala' 'Odisha' 'Tamil_Nadu' 'Gujarat'\n",
      " 'Rajasthan' 'Telangana' 'Bihar' 'Andhra_Pradesh' 'West_Bengal' 'Haryana'\n",
      " 'Puducherry' 'Karnataka' 'Uttar_Pradesh' 'Himachal_Pradesh' 'Punjab'\n",
      " 'Tripura' 'Uttarakhand' 'Jharkhand' 'Mizoram' 'Assam' 'Jammu_and_Kashmir'\n",
      " 'Delhi' 'Chhattisgarh' 'Chandigarh' 'Uttar_Pradesh[5]' 'Manipur' 'Sikkim']\n",
      "-------------------\n",
      "Attribute name: CURRENT_JOB_YRS\n",
      "-------------------\n",
      "[ 3  9  4  2  0  8 11  5  7  6 12  1 10 13 14]\n",
      "-------------------\n",
      "Attribute name: CURRENT_HOUSE_YRS\n",
      "-------------------\n",
      "[13 10 12 14 11]\n",
      "-------------------\n",
      "Attribute name: Risk_Flag\n",
      "-------------------\n",
      "[0 1]\n",
      "-------------------\n"
     ]
    }
   ],
   "source": [
    "for colu in df.columns:\n",
    "    print('Attribute name:',colu)\n",
    "    print('-------------------')\n",
    "    print(df[colu].unique())\n",
    "    print('-------------------')"
   ]
  },
  {
   "cell_type": "markdown",
   "id": "4ec28c8b",
   "metadata": {},
   "source": [
    "# Menentukan Objek Data"
   ]
  },
  {
   "cell_type": "markdown",
   "id": "956e6e31",
   "metadata": {},
   "source": [
    "## 1.1"
   ]
  },
  {
   "cell_type": "code",
   "execution_count": 93,
   "id": "c427d81a",
   "metadata": {},
   "outputs": [
    {
     "data": {
      "text/plain": [
       "(252000, 13)"
      ]
     },
     "execution_count": 93,
     "metadata": {},
     "output_type": "execute_result"
    }
   ],
   "source": [
    "df.shape"
   ]
  },
  {
   "cell_type": "code",
   "execution_count": 94,
   "id": "221ce2fe",
   "metadata": {},
   "outputs": [
    {
     "data": {
      "text/plain": [
       "Income               0\n",
       "Age                  0\n",
       "Experience           0\n",
       "Married/Single       0\n",
       "House_Ownership      0\n",
       "Car_Ownership        0\n",
       "Profession           0\n",
       "CITY                 0\n",
       "STATE                0\n",
       "CURRENT_JOB_YRS      0\n",
       "CURRENT_HOUSE_YRS    0\n",
       "Risk_Flag            0\n",
       "y_hats               0\n",
       "dtype: int64"
      ]
     },
     "execution_count": 94,
     "metadata": {},
     "output_type": "execute_result"
    }
   ],
   "source": [
    "df.isna().sum()"
   ]
  },
  {
   "cell_type": "markdown",
   "id": "e66fb771",
   "metadata": {},
   "source": [
    "## 1.2"
   ]
  },
  {
   "cell_type": "code",
   "execution_count": 63,
   "id": "70f0b137",
   "metadata": {},
   "outputs": [],
   "source": [
    "from scipy.stats import chi2_contingency\n",
    "def chi_square_test(data):\n",
    "    stat, p, dof, expected = chi2_contingency(car_ownership_risk_flag)\n",
    "    alpha = 0.05\n",
    "    print(\"nilai P value = \" + str(p))\n",
    "    if p <= alpha:\n",
    "        print('Dependent (reject H0)')\n",
    "    else:\n",
    "        print('Independent (H0 holds true)')"
   ]
  },
  {
   "cell_type": "code",
   "execution_count": 64,
   "id": "91bd0dfd",
   "metadata": {},
   "outputs": [
    {
     "name": "stdout",
     "output_type": "stream",
     "text": [
      "nilai P value = 1.7350853850183746e-33\n",
      "Dependent (reject H0)\n"
     ]
    }
   ],
   "source": [
    "# Pengecekan fitur Car_Ownership cocok untuk parameter x atau tidak\n",
    "car_ownership_risk_flag = pd.crosstab(df[\"Car_Ownership\"], df[\"Risk_Flag\"])\n",
    "chi_square_test(car_ownership_risk_flag)"
   ]
  },
  {
   "cell_type": "code",
   "execution_count": 67,
   "id": "2d4cfec1",
   "metadata": {},
   "outputs": [
    {
     "name": "stdout",
     "output_type": "stream",
     "text": [
      "nilai P value = 1.7350853850183746e-33\n",
      "Dependent (reject H0)\n"
     ]
    }
   ],
   "source": [
    "# Pengecekan fitur Married/Single cocok untuk parameter x atau tidak\n",
    "marital_status_risk_flag = pd.crosstab(df[\"Married/Single\"], df[\"Risk_Flag\"])\n",
    "chi_square_test(marital_status_risk_flag)"
   ]
  },
  {
   "cell_type": "code",
   "execution_count": 68,
   "id": "0632b55f",
   "metadata": {},
   "outputs": [
    {
     "name": "stdout",
     "output_type": "stream",
     "text": [
      "nilai P value = 1.7350853850183746e-33\n",
      "Dependent (reject H0)\n"
     ]
    }
   ],
   "source": [
    "house_ownership_risk_flag = pd.crosstab(df[\"House_Ownership\"], df[\"Risk_Flag\"])\n",
    "chi_square_test(house_ownership_risk_flag)"
   ]
  },
  {
   "cell_type": "code",
   "execution_count": null,
   "id": "f82ca20d",
   "metadata": {},
   "outputs": [],
   "source": []
  },
  {
   "cell_type": "markdown",
   "id": "ce65d59e",
   "metadata": {},
   "source": [
    "# Membersihkan Data"
   ]
  },
  {
   "cell_type": "code",
   "execution_count": 70,
   "id": "5ca242cf",
   "metadata": {},
   "outputs": [
    {
     "data": {
      "text/plain": [
       "' DATA SUDAH BERSIH'"
      ]
     },
     "execution_count": 70,
     "metadata": {},
     "output_type": "execute_result"
    }
   ],
   "source": [
    "''' DATA SUDAH BERSIH'''"
   ]
  },
  {
   "cell_type": "markdown",
   "id": "c3b777f9",
   "metadata": {},
   "source": [
    "# Mengkonstruksi data"
   ]
  },
  {
   "cell_type": "markdown",
   "id": "322fe9e0",
   "metadata": {},
   "source": [
    "# Menentukan Label Data"
   ]
  },
  {
   "cell_type": "code",
   "execution_count": 73,
   "id": "2b17901f",
   "metadata": {},
   "outputs": [],
   "source": [
    "from sklearn.preprocessing import LabelEncoder, StandardScaler, MinMaxScaler\n",
    "features = ['Married/Single','Car_Ownership','Profession','CITY','STATE']\n",
    "label_encoder = LabelEncoder()\n",
    "\n",
    "for col in features:\n",
    "    df[col] = label_encoder.fit_transform(df[col])\n",
    "\n",
    "\"\"\"Label encoding digunakan karena data ini bersifat String agar nantinya data dapat dibaca\n",
    "oleh mesin maka dijadikan angka dengan LabelEncoder\"\"\""
   ]
  },
  {
   "cell_type": "code",
   "execution_count": 75,
   "id": "4234f2e9",
   "metadata": {},
   "outputs": [],
   "source": [
    "df2 = pd.get_dummies(df, columns = [\"House_Ownership\"])"
   ]
  },
  {
   "cell_type": "code",
   "execution_count": 76,
   "id": "b1b78b67",
   "metadata": {},
   "outputs": [
    {
     "data": {
      "text/html": [
       "<div>\n",
       "<style scoped>\n",
       "    .dataframe tbody tr th:only-of-type {\n",
       "        vertical-align: middle;\n",
       "    }\n",
       "\n",
       "    .dataframe tbody tr th {\n",
       "        vertical-align: top;\n",
       "    }\n",
       "\n",
       "    .dataframe thead th {\n",
       "        text-align: right;\n",
       "    }\n",
       "</style>\n",
       "<table border=\"1\" class=\"dataframe\">\n",
       "  <thead>\n",
       "    <tr style=\"text-align: right;\">\n",
       "      <th></th>\n",
       "      <th>Income</th>\n",
       "      <th>Age</th>\n",
       "      <th>Experience</th>\n",
       "      <th>Married/Single</th>\n",
       "      <th>Car_Ownership</th>\n",
       "      <th>Profession</th>\n",
       "      <th>CITY</th>\n",
       "      <th>STATE</th>\n",
       "      <th>CURRENT_JOB_YRS</th>\n",
       "      <th>CURRENT_HOUSE_YRS</th>\n",
       "      <th>Risk_Flag</th>\n",
       "      <th>House_Ownership_norent_noown</th>\n",
       "      <th>House_Ownership_owned</th>\n",
       "      <th>House_Ownership_rented</th>\n",
       "    </tr>\n",
       "  </thead>\n",
       "  <tbody>\n",
       "    <tr>\n",
       "      <th>0</th>\n",
       "      <td>1303834</td>\n",
       "      <td>23</td>\n",
       "      <td>3</td>\n",
       "      <td>1</td>\n",
       "      <td>0</td>\n",
       "      <td>33</td>\n",
       "      <td>251</td>\n",
       "      <td>13</td>\n",
       "      <td>3</td>\n",
       "      <td>13</td>\n",
       "      <td>0</td>\n",
       "      <td>0</td>\n",
       "      <td>0</td>\n",
       "      <td>1</td>\n",
       "    </tr>\n",
       "    <tr>\n",
       "      <th>1</th>\n",
       "      <td>7574516</td>\n",
       "      <td>40</td>\n",
       "      <td>10</td>\n",
       "      <td>1</td>\n",
       "      <td>0</td>\n",
       "      <td>43</td>\n",
       "      <td>227</td>\n",
       "      <td>14</td>\n",
       "      <td>9</td>\n",
       "      <td>13</td>\n",
       "      <td>0</td>\n",
       "      <td>0</td>\n",
       "      <td>0</td>\n",
       "      <td>1</td>\n",
       "    </tr>\n",
       "    <tr>\n",
       "      <th>2</th>\n",
       "      <td>3991815</td>\n",
       "      <td>66</td>\n",
       "      <td>4</td>\n",
       "      <td>0</td>\n",
       "      <td>0</td>\n",
       "      <td>47</td>\n",
       "      <td>8</td>\n",
       "      <td>12</td>\n",
       "      <td>4</td>\n",
       "      <td>10</td>\n",
       "      <td>0</td>\n",
       "      <td>0</td>\n",
       "      <td>0</td>\n",
       "      <td>1</td>\n",
       "    </tr>\n",
       "    <tr>\n",
       "      <th>3</th>\n",
       "      <td>6256451</td>\n",
       "      <td>41</td>\n",
       "      <td>2</td>\n",
       "      <td>1</td>\n",
       "      <td>1</td>\n",
       "      <td>43</td>\n",
       "      <td>54</td>\n",
       "      <td>17</td>\n",
       "      <td>2</td>\n",
       "      <td>12</td>\n",
       "      <td>1</td>\n",
       "      <td>0</td>\n",
       "      <td>0</td>\n",
       "      <td>1</td>\n",
       "    </tr>\n",
       "    <tr>\n",
       "      <th>4</th>\n",
       "      <td>5768871</td>\n",
       "      <td>47</td>\n",
       "      <td>11</td>\n",
       "      <td>1</td>\n",
       "      <td>0</td>\n",
       "      <td>11</td>\n",
       "      <td>296</td>\n",
       "      <td>22</td>\n",
       "      <td>3</td>\n",
       "      <td>14</td>\n",
       "      <td>1</td>\n",
       "      <td>0</td>\n",
       "      <td>0</td>\n",
       "      <td>1</td>\n",
       "    </tr>\n",
       "    <tr>\n",
       "      <th>...</th>\n",
       "      <td>...</td>\n",
       "      <td>...</td>\n",
       "      <td>...</td>\n",
       "      <td>...</td>\n",
       "      <td>...</td>\n",
       "      <td>...</td>\n",
       "      <td>...</td>\n",
       "      <td>...</td>\n",
       "      <td>...</td>\n",
       "      <td>...</td>\n",
       "      <td>...</td>\n",
       "      <td>...</td>\n",
       "      <td>...</td>\n",
       "      <td>...</td>\n",
       "    </tr>\n",
       "    <tr>\n",
       "      <th>251995</th>\n",
       "      <td>8154883</td>\n",
       "      <td>43</td>\n",
       "      <td>13</td>\n",
       "      <td>1</td>\n",
       "      <td>0</td>\n",
       "      <td>45</td>\n",
       "      <td>162</td>\n",
       "      <td>28</td>\n",
       "      <td>6</td>\n",
       "      <td>11</td>\n",
       "      <td>0</td>\n",
       "      <td>0</td>\n",
       "      <td>0</td>\n",
       "      <td>1</td>\n",
       "    </tr>\n",
       "    <tr>\n",
       "      <th>251996</th>\n",
       "      <td>2843572</td>\n",
       "      <td>26</td>\n",
       "      <td>10</td>\n",
       "      <td>1</td>\n",
       "      <td>0</td>\n",
       "      <td>3</td>\n",
       "      <td>251</td>\n",
       "      <td>13</td>\n",
       "      <td>6</td>\n",
       "      <td>11</td>\n",
       "      <td>0</td>\n",
       "      <td>0</td>\n",
       "      <td>0</td>\n",
       "      <td>1</td>\n",
       "    </tr>\n",
       "    <tr>\n",
       "      <th>251997</th>\n",
       "      <td>4522448</td>\n",
       "      <td>46</td>\n",
       "      <td>7</td>\n",
       "      <td>1</td>\n",
       "      <td>0</td>\n",
       "      <td>17</td>\n",
       "      <td>144</td>\n",
       "      <td>14</td>\n",
       "      <td>7</td>\n",
       "      <td>12</td>\n",
       "      <td>0</td>\n",
       "      <td>0</td>\n",
       "      <td>0</td>\n",
       "      <td>1</td>\n",
       "    </tr>\n",
       "    <tr>\n",
       "      <th>251998</th>\n",
       "      <td>6507128</td>\n",
       "      <td>45</td>\n",
       "      <td>0</td>\n",
       "      <td>1</td>\n",
       "      <td>0</td>\n",
       "      <td>27</td>\n",
       "      <td>233</td>\n",
       "      <td>18</td>\n",
       "      <td>0</td>\n",
       "      <td>10</td>\n",
       "      <td>0</td>\n",
       "      <td>0</td>\n",
       "      <td>0</td>\n",
       "      <td>1</td>\n",
       "    </tr>\n",
       "    <tr>\n",
       "      <th>251999</th>\n",
       "      <td>9070230</td>\n",
       "      <td>70</td>\n",
       "      <td>17</td>\n",
       "      <td>1</td>\n",
       "      <td>0</td>\n",
       "      <td>44</td>\n",
       "      <td>26</td>\n",
       "      <td>22</td>\n",
       "      <td>7</td>\n",
       "      <td>11</td>\n",
       "      <td>0</td>\n",
       "      <td>0</td>\n",
       "      <td>0</td>\n",
       "      <td>1</td>\n",
       "    </tr>\n",
       "  </tbody>\n",
       "</table>\n",
       "<p>252000 rows × 14 columns</p>\n",
       "</div>"
      ],
      "text/plain": [
       "         Income  Age  Experience  Married/Single  Car_Ownership  Profession  \\\n",
       "0       1303834   23           3               1              0          33   \n",
       "1       7574516   40          10               1              0          43   \n",
       "2       3991815   66           4               0              0          47   \n",
       "3       6256451   41           2               1              1          43   \n",
       "4       5768871   47          11               1              0          11   \n",
       "...         ...  ...         ...             ...            ...         ...   \n",
       "251995  8154883   43          13               1              0          45   \n",
       "251996  2843572   26          10               1              0           3   \n",
       "251997  4522448   46           7               1              0          17   \n",
       "251998  6507128   45           0               1              0          27   \n",
       "251999  9070230   70          17               1              0          44   \n",
       "\n",
       "        CITY  STATE  CURRENT_JOB_YRS  CURRENT_HOUSE_YRS  Risk_Flag  \\\n",
       "0        251     13                3                 13          0   \n",
       "1        227     14                9                 13          0   \n",
       "2          8     12                4                 10          0   \n",
       "3         54     17                2                 12          1   \n",
       "4        296     22                3                 14          1   \n",
       "...      ...    ...              ...                ...        ...   \n",
       "251995   162     28                6                 11          0   \n",
       "251996   251     13                6                 11          0   \n",
       "251997   144     14                7                 12          0   \n",
       "251998   233     18                0                 10          0   \n",
       "251999    26     22                7                 11          0   \n",
       "\n",
       "        House_Ownership_norent_noown  House_Ownership_owned  \\\n",
       "0                                  0                      0   \n",
       "1                                  0                      0   \n",
       "2                                  0                      0   \n",
       "3                                  0                      0   \n",
       "4                                  0                      0   \n",
       "...                              ...                    ...   \n",
       "251995                             0                      0   \n",
       "251996                             0                      0   \n",
       "251997                             0                      0   \n",
       "251998                             0                      0   \n",
       "251999                             0                      0   \n",
       "\n",
       "        House_Ownership_rented  \n",
       "0                            1  \n",
       "1                            1  \n",
       "2                            1  \n",
       "3                            1  \n",
       "4                            1  \n",
       "...                        ...  \n",
       "251995                       1  \n",
       "251996                       1  \n",
       "251997                       1  \n",
       "251998                       1  \n",
       "251999                       1  \n",
       "\n",
       "[252000 rows x 14 columns]"
      ]
     },
     "execution_count": 76,
     "metadata": {},
     "output_type": "execute_result"
    }
   ],
   "source": [
    "df2"
   ]
  },
  {
   "cell_type": "markdown",
   "id": "f93b2401",
   "metadata": {},
   "source": [
    "# Membangun Model"
   ]
  },
  {
   "cell_type": "code",
   "execution_count": 79,
   "id": "d29bb588",
   "metadata": {},
   "outputs": [],
   "source": [
    "from sklearn.model_selection import train_test_split\n",
    "\n",
    "X = df2.drop(['Risk_Flag'],axis=1)\n",
    "y = df2.Risk_Flag\n",
    "X_train, X_test, y_train, y_test = train_test_split(X, y, test_size = 0.3, random_state = 0)"
   ]
  },
  {
   "cell_type": "code",
   "execution_count": 96,
   "id": "020290e0",
   "metadata": {},
   "outputs": [
    {
     "name": "stdout",
     "output_type": "stream",
     "text": [
      "Akurasi model:  0.9004100529100529\n"
     ]
    }
   ],
   "source": [
    "\n",
    "from sklearn.ensemble import RandomForestClassifier\n",
    "\n",
    "model = RandomForestClassifier()\n",
    "model.fit(X_train, y_train)\n",
    "y_pred = model.predict(X_test)\n",
    "accuracy = model.score(X_test, y_test)\n",
    "print (\"Akurasi model: \",accuracy)"
   ]
  },
  {
   "cell_type": "code",
   "execution_count": 97,
   "id": "2abff9fd",
   "metadata": {},
   "outputs": [
    {
     "name": "stdout",
     "output_type": "stream",
     "text": [
      "Akurasi model dengan 4 fold cross validation:  0.8994727891156463\n",
      "Akurasi model untuk tiap Fold:  [0.89891156 0.89922902 0.89868481 0.90106576]\n"
     ]
    }
   ],
   "source": [
    "# Cross validation menggunakan 4 fold\n",
    "from sklearn.model_selection import cross_val_score\n",
    "Rcross = cross_val_score(model, X_train, y_train, cv=4)\n",
    "print(\"Akurasi model dengan 4 fold cross validation: \", Rcross.mean())\n",
    "print (\"Akurasi model untuk tiap Fold: \",Rcross)"
   ]
  },
  {
   "cell_type": "code",
   "execution_count": null,
   "id": "f4d9d173",
   "metadata": {},
   "outputs": [],
   "source": []
  },
  {
   "cell_type": "markdown",
   "id": "14b2cbea",
   "metadata": {},
   "source": [
    "# Mengevaluasi Hasil Pemodelan"
   ]
  },
  {
   "cell_type": "code",
   "execution_count": 98,
   "id": "8ef5b34d",
   "metadata": {},
   "outputs": [
    {
     "name": "stdout",
     "output_type": "stream",
     "text": [
      "0.7432989927537751\n"
     ]
    }
   ],
   "source": [
    "from sklearn.metrics import roc_auc_score\n",
    "auc = roc_auc_score(y_test, y_pred)\n",
    "print(auc)"
   ]
  },
  {
   "cell_type": "code",
   "execution_count": 99,
   "id": "595b1564",
   "metadata": {},
   "outputs": [
    {
     "name": "stdout",
     "output_type": "stream",
     "text": [
      "\n",
      "Classification report\n",
      "              precision    recall  f1-score   support\n",
      "\n",
      "           0       0.94      0.95      0.94     66338\n",
      "           1       0.61      0.54      0.57      9262\n",
      "\n",
      "    accuracy                           0.90     75600\n",
      "   macro avg       0.77      0.74      0.76     75600\n",
      "weighted avg       0.90      0.90      0.90     75600\n",
      "\n"
     ]
    }
   ],
   "source": [
    "from sklearn.metrics import confusion_matrix, classification_report\n",
    "print('\\nClassification report')  \n",
    "cr = classification_report(y_test, y_pred)  \n",
    "print(cr)"
   ]
  },
  {
   "cell_type": "code",
   "execution_count": null,
   "id": "af70d9de",
   "metadata": {},
   "outputs": [],
   "source": []
  }
 ],
 "metadata": {
  "kernelspec": {
   "display_name": "Python 3",
   "language": "python",
   "name": "python3"
  },
  "language_info": {
   "codemirror_mode": {
    "name": "ipython",
    "version": 3
   },
   "file_extension": ".py",
   "mimetype": "text/x-python",
   "name": "python",
   "nbconvert_exporter": "python",
   "pygments_lexer": "ipython3",
   "version": "3.8.6rc1"
  }
 },
 "nbformat": 4,
 "nbformat_minor": 5
}
